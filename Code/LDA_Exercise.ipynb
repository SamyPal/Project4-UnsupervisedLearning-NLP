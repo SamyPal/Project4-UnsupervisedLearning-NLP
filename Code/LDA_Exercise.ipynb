{
 "cells": [
  {
   "cell_type": "markdown",
   "metadata": {},
   "source": [
    "# Topic Modeling with gensim\n",
    "We'll try out [Latent Dirichlet Allocation (LDA)](https://en.wikipedia.org/wiki/Latent_Dirichlet_allocation) in [gensim](http://radimrehurek.com/gensim/index.html) on the [20 Newsgroups dataset](http://scikit-learn.org/stable/modules/generated/sklearn.datasets.fetch_20newsgroups.html) with some simple preprocessing."
   ]
  },
  {
   "cell_type": "markdown",
   "metadata": {},
   "source": [
    "#### Install gensim"
   ]
  },
  {
   "cell_type": "code",
   "execution_count": 1,
   "metadata": {},
   "outputs": [
    {
     "name": "stdout",
     "output_type": "stream",
     "text": [
      "Collecting package metadata (current_repodata.json): done\n",
      "Solving environment: done\n",
      "\n",
      "## Package Plan ##\n",
      "\n",
      "  environment location: /Users/samypalaniappan/opt/miniconda3\n",
      "\n",
      "  added / updated specs:\n",
      "    - gensim\n",
      "\n",
      "\n",
      "The following packages will be downloaded:\n",
      "\n",
      "    package                    |            build\n",
      "    ---------------------------|-----------------\n",
      "    boto3-1.12.1               |             py_0          69 KB  conda-forge\n",
      "    botocore-1.15.1            |             py_0         3.6 MB  conda-forge\n",
      "    gensim-3.8.0               |   py37h6440ff4_0        18.4 MB\n",
      "    s3transfer-0.3.3           |           py37_0          90 KB  conda-forge\n",
      "    ------------------------------------------------------------\n",
      "                                           Total:        22.1 MB\n",
      "\n",
      "The following NEW packages will be INSTALLED:\n",
      "\n",
      "  boto               conda-forge/noarch::boto-2.49.0-py_0\n",
      "  boto3              conda-forge/noarch::boto3-1.12.1-py_0\n",
      "  botocore           conda-forge/noarch::botocore-1.15.1-py_0\n",
      "  bz2file            conda-forge/noarch::bz2file-0.98-py_0\n",
      "  docutils           conda-forge/osx-64::docutils-0.15.2-py37_0\n",
      "  gensim             pkgs/main/osx-64::gensim-3.8.0-py37h6440ff4_0\n",
      "  jmespath           conda-forge/noarch::jmespath-0.9.4-py_0\n",
      "  s3transfer         conda-forge/osx-64::s3transfer-0.3.3-py37_0\n",
      "  smart_open         conda-forge/noarch::smart_open-1.9.0-py_0\n",
      "\n",
      "\n",
      "\n",
      "Downloading and Extracting Packages\n",
      "gensim-3.8.0         | 18.4 MB   | ##################################### | 100% \n",
      "boto3-1.12.1         | 69 KB     | ##################################### | 100% \n",
      "s3transfer-0.3.3     | 90 KB     | ##################################### | 100% \n",
      "botocore-1.15.1      | 3.6 MB    | ##################################### | 100% \n",
      "Preparing transaction: done\n",
      "Verifying transaction: done\n",
      "Executing transaction: done\n"
     ]
    }
   ],
   "source": [
    " !conda install gensim -y"
   ]
  },
  {
   "cell_type": "markdown",
   "metadata": {},
   "source": [
    "##### imports"
   ]
  },
  {
   "cell_type": "code",
   "execution_count": 22,
   "metadata": {},
   "outputs": [],
   "source": [
    "# gensim\n",
    "from gensim import corpora, models, similarities, matutils\n",
    "\n",
    "# sklearn\n",
    "from sklearn import datasets\n",
    "from sklearn.feature_extraction.text import CountVectorizer\n",
    "\n",
    "# logging for gensim (set to INFO)\n",
    "import logging\n",
    "logging.basicConfig(format='%(asctime)s : %(levelname)s : %(message)s', level=logging.INFO)\n",
    "import nltk\n",
    "from sklearn.feature_extraction.text import TfidfTransformer"
   ]
  },
  {
   "cell_type": "markdown",
   "metadata": {},
   "source": [
    "Let's retain only a subset of the 20 categories in the original 20 Newsgroups Dataset."
   ]
  },
  {
   "cell_type": "code",
   "execution_count": 3,
   "metadata": {},
   "outputs": [],
   "source": [
    "# Set categories\n",
    "categories = ['alt.atheism', 'comp.graphics', 'rec.sport.baseball', \n",
    "              'rec.motorcycles', 'sci.space', 'talk.politics.mideast']\n",
    "\n",
    "# Download the training subset of the 20 NG dataset, with headers, footers, quotes removed\n",
    "# Only keep docs from the 6 categories above\n",
    "ng_train = datasets.fetch_20newsgroups(subset='train', categories=categories, \n",
    "                                      remove=('headers', 'footers', 'quotes'))"
   ]
  },
  {
   "cell_type": "code",
   "execution_count": 4,
   "metadata": {},
   "outputs": [
    {
     "data": {
      "text/plain": [
       "'Well, the Red Sox have apparenly resigned Herm Winningham to a AAA contract.\\nTed \"Larry\" Simmons signed him to a AAA contract then released him from\\nBuffalo, allowing Lou \"Curly\" Gorman to circumvent the rule about not\\nresigning free agents until May 1. Clearly, neither of these guys is bright\\nenough to be Moe.\\n\\n Mike Jones | AIX High-End Development | mjones@donald.aix.kingston.ibm.com'"
      ]
     },
     "execution_count": 4,
     "metadata": {},
     "output_type": "execute_result"
    }
   ],
   "source": [
    "# Take a look at the first doc\n",
    "ng_train.data[0]"
   ]
  },
  {
   "cell_type": "markdown",
   "metadata": {},
   "source": [
    "## Document Preprocessing\n",
    "We'll need to generate a term-document matrix of word (token) counts for use in LDA.\n",
    "\n",
    "We'll use `sklearn`'s `CountVectorizer` to generate our term-document matrix of counts. We'll make use of a few parameters to accomplish the following preprocessing of the text documents all within the `CountVectorizer`:\n",
    "* `analyzer=word`: Tokenize by word\n",
    "* `ngram_range=(1,2)`: Keep all 1 and 2-word grams\n",
    "* `stop_words=english`: Remove all English stop words\n",
    "* `token_pattern=\\\\b[a-z][a-z]+\\\\b`: Match all tokens with 2 or more (strictly) alphabet characters"
   ]
  },
  {
   "cell_type": "code",
   "execution_count": 24,
   "metadata": {},
   "outputs": [
    {
     "ename": "TypeError",
     "evalue": "__init__() got an unexpected keyword argument 'ngram_range'",
     "output_type": "error",
     "traceback": [
      "\u001b[0;31m---------------------------------------------------------------------------\u001b[0m",
      "\u001b[0;31mTypeError\u001b[0m                                 Traceback (most recent call last)",
      "\u001b[0;32m<ipython-input-24-9f982229b772>\u001b[0m in \u001b[0;36m<module>\u001b[0;34m\u001b[0m\n\u001b[0;32m----> 1\u001b[0;31m \u001b[0mtfidf2\u001b[0m \u001b[0;34m=\u001b[0m \u001b[0mTfidfTransformer\u001b[0m\u001b[0;34m(\u001b[0m\u001b[0mngram_range\u001b[0m\u001b[0;34m=\u001b[0m\u001b[0;34m(\u001b[0m\u001b[0;36m1\u001b[0m\u001b[0;34m,\u001b[0m\u001b[0;36m2\u001b[0m\u001b[0;34m)\u001b[0m\u001b[0;34m,\u001b[0m \u001b[0mbinary\u001b[0m\u001b[0;34m=\u001b[0m\u001b[0;32mTrue\u001b[0m\u001b[0;34m,\u001b[0m \u001b[0mstop_words\u001b[0m\u001b[0;34m=\u001b[0m\u001b[0;34m'english'\u001b[0m\u001b[0;34m)\u001b[0m\u001b[0;34m\u001b[0m\u001b[0;34m\u001b[0m\u001b[0m\n\u001b[0m\u001b[1;32m      2\u001b[0m \u001b[0mX_train_tfidf2\u001b[0m \u001b[0;34m=\u001b[0m \u001b[0mtfidf2\u001b[0m\u001b[0;34m.\u001b[0m\u001b[0mfit_transform\u001b[0m\u001b[0;34m(\u001b[0m\u001b[0mng_train\u001b[0m\u001b[0;34m.\u001b[0m\u001b[0mdata\u001b[0m\u001b[0;34m)\u001b[0m\u001b[0;34m\u001b[0m\u001b[0;34m\u001b[0m\u001b[0m\n",
      "\u001b[0;31mTypeError\u001b[0m: __init__() got an unexpected keyword argument 'ngram_range'"
     ]
    }
   ],
   "source": [
    "tfidf2 = TfidfTransformer(ngram_range=(1,2), binary=True, stop_words='english', min)\n",
    "X_train_tfidf2 = tfidf2.fit_transform(ng_train.data)"
   ]
  },
  {
   "cell_type": "code",
   "execution_count": 5,
   "metadata": {},
   "outputs": [
    {
     "data": {
      "text/plain": [
       "CountVectorizer(analyzer='word', binary=False, decode_error='strict',\n",
       "                dtype=<class 'numpy.int64'>, encoding='utf-8', input='content',\n",
       "                lowercase=True, max_df=1.0, max_features=None, min_df=1,\n",
       "                ngram_range=(1, 2), preprocessor=None, stop_words='english',\n",
       "                strip_accents=None, token_pattern='\\\\b[a-z][a-z]+\\\\b',\n",
       "                tokenizer=None, vocabulary=None)"
      ]
     },
     "execution_count": 5,
     "metadata": {},
     "output_type": "execute_result"
    }
   ],
   "source": [
    "# Create a CountVectorizer for parsing/counting words\n",
    "count_vectorizer = CountVectorizer(ngram_range=(1, 2),  \n",
    "                                   stop_words='english', token_pattern=\"\\\\b[a-z][a-z]+\\\\b\", max_df=0.7, min_df=0.2)\n",
    "\n",
    "count_vectorizer.fit(ng_train.data)"
   ]
  },
  {
   "cell_type": "code",
   "execution_count": 6,
   "metadata": {},
   "outputs": [],
   "source": [
    "# Create the term-document matrix\n",
    "# Transpose it so the terms are the rows\n",
    "doc_word = count_vectorizer.transform(ng_train.data).transpose()"
   ]
  },
  {
   "cell_type": "code",
   "execution_count": 7,
   "metadata": {},
   "outputs": [
    {
     "data": {
      "text/html": [
       "<div>\n",
       "<style scoped>\n",
       "    .dataframe tbody tr th:only-of-type {\n",
       "        vertical-align: middle;\n",
       "    }\n",
       "\n",
       "    .dataframe tbody tr th {\n",
       "        vertical-align: top;\n",
       "    }\n",
       "\n",
       "    .dataframe thead th {\n",
       "        text-align: right;\n",
       "    }\n",
       "</style>\n",
       "<table border=\"1\" class=\"dataframe\">\n",
       "  <thead>\n",
       "    <tr style=\"text-align: right;\">\n",
       "      <th></th>\n",
       "      <th>0</th>\n",
       "      <th>1</th>\n",
       "      <th>2</th>\n",
       "      <th>3</th>\n",
       "      <th>4</th>\n",
       "      <th>5</th>\n",
       "      <th>6</th>\n",
       "      <th>7</th>\n",
       "      <th>8</th>\n",
       "      <th>9</th>\n",
       "      <th>...</th>\n",
       "      <th>3406</th>\n",
       "      <th>3407</th>\n",
       "      <th>3408</th>\n",
       "      <th>3409</th>\n",
       "      <th>3410</th>\n",
       "      <th>3411</th>\n",
       "      <th>3412</th>\n",
       "      <th>3413</th>\n",
       "      <th>3414</th>\n",
       "      <th>3415</th>\n",
       "    </tr>\n",
       "  </thead>\n",
       "  <tbody>\n",
       "    <tr>\n",
       "      <td>aa</td>\n",
       "      <td>0</td>\n",
       "      <td>0</td>\n",
       "      <td>0</td>\n",
       "      <td>0</td>\n",
       "      <td>0</td>\n",
       "      <td>0</td>\n",
       "      <td>0</td>\n",
       "      <td>0</td>\n",
       "      <td>0</td>\n",
       "      <td>0</td>\n",
       "      <td>...</td>\n",
       "      <td>0</td>\n",
       "      <td>0</td>\n",
       "      <td>0</td>\n",
       "      <td>0</td>\n",
       "      <td>0</td>\n",
       "      <td>0</td>\n",
       "      <td>0</td>\n",
       "      <td>0</td>\n",
       "      <td>0</td>\n",
       "      <td>0</td>\n",
       "    </tr>\n",
       "    <tr>\n",
       "      <td>aa aaa</td>\n",
       "      <td>0</td>\n",
       "      <td>0</td>\n",
       "      <td>0</td>\n",
       "      <td>0</td>\n",
       "      <td>0</td>\n",
       "      <td>0</td>\n",
       "      <td>0</td>\n",
       "      <td>0</td>\n",
       "      <td>0</td>\n",
       "      <td>0</td>\n",
       "      <td>...</td>\n",
       "      <td>0</td>\n",
       "      <td>0</td>\n",
       "      <td>0</td>\n",
       "      <td>0</td>\n",
       "      <td>0</td>\n",
       "      <td>0</td>\n",
       "      <td>0</td>\n",
       "      <td>0</td>\n",
       "      <td>0</td>\n",
       "      <td>0</td>\n",
       "    </tr>\n",
       "    <tr>\n",
       "      <td>aa albany</td>\n",
       "      <td>0</td>\n",
       "      <td>0</td>\n",
       "      <td>0</td>\n",
       "      <td>0</td>\n",
       "      <td>0</td>\n",
       "      <td>0</td>\n",
       "      <td>0</td>\n",
       "      <td>0</td>\n",
       "      <td>0</td>\n",
       "      <td>0</td>\n",
       "      <td>...</td>\n",
       "      <td>0</td>\n",
       "      <td>0</td>\n",
       "      <td>0</td>\n",
       "      <td>0</td>\n",
       "      <td>0</td>\n",
       "      <td>0</td>\n",
       "      <td>0</td>\n",
       "      <td>0</td>\n",
       "      <td>0</td>\n",
       "      <td>0</td>\n",
       "    </tr>\n",
       "    <tr>\n",
       "      <td>aa atlanta</td>\n",
       "      <td>0</td>\n",
       "      <td>0</td>\n",
       "      <td>0</td>\n",
       "      <td>0</td>\n",
       "      <td>0</td>\n",
       "      <td>0</td>\n",
       "      <td>0</td>\n",
       "      <td>0</td>\n",
       "      <td>0</td>\n",
       "      <td>0</td>\n",
       "      <td>...</td>\n",
       "      <td>0</td>\n",
       "      <td>0</td>\n",
       "      <td>0</td>\n",
       "      <td>0</td>\n",
       "      <td>0</td>\n",
       "      <td>0</td>\n",
       "      <td>0</td>\n",
       "      <td>0</td>\n",
       "      <td>0</td>\n",
       "      <td>0</td>\n",
       "    </tr>\n",
       "    <tr>\n",
       "      <td>aa does</td>\n",
       "      <td>0</td>\n",
       "      <td>0</td>\n",
       "      <td>0</td>\n",
       "      <td>0</td>\n",
       "      <td>0</td>\n",
       "      <td>0</td>\n",
       "      <td>0</td>\n",
       "      <td>0</td>\n",
       "      <td>0</td>\n",
       "      <td>0</td>\n",
       "      <td>...</td>\n",
       "      <td>0</td>\n",
       "      <td>0</td>\n",
       "      <td>0</td>\n",
       "      <td>0</td>\n",
       "      <td>0</td>\n",
       "      <td>0</td>\n",
       "      <td>0</td>\n",
       "      <td>0</td>\n",
       "      <td>0</td>\n",
       "      <td>0</td>\n",
       "    </tr>\n",
       "  </tbody>\n",
       "</table>\n",
       "<p>5 rows × 3416 columns</p>\n",
       "</div>"
      ],
      "text/plain": [
       "            0     1     2     3     4     5     6     7     8     9     ...  \\\n",
       "aa             0     0     0     0     0     0     0     0     0     0  ...   \n",
       "aa aaa         0     0     0     0     0     0     0     0     0     0  ...   \n",
       "aa albany      0     0     0     0     0     0     0     0     0     0  ...   \n",
       "aa atlanta     0     0     0     0     0     0     0     0     0     0  ...   \n",
       "aa does        0     0     0     0     0     0     0     0     0     0  ...   \n",
       "\n",
       "            3406  3407  3408  3409  3410  3411  3412  3413  3414  3415  \n",
       "aa             0     0     0     0     0     0     0     0     0     0  \n",
       "aa aaa         0     0     0     0     0     0     0     0     0     0  \n",
       "aa albany      0     0     0     0     0     0     0     0     0     0  \n",
       "aa atlanta     0     0     0     0     0     0     0     0     0     0  \n",
       "aa does        0     0     0     0     0     0     0     0     0     0  \n",
       "\n",
       "[5 rows x 3416 columns]"
      ]
     },
     "execution_count": 7,
     "metadata": {},
     "output_type": "execute_result"
    }
   ],
   "source": [
    "import pandas as pd\n",
    "\n",
    "pd.DataFrame(doc_word.toarray(), count_vectorizer.get_feature_names()).head()"
   ]
  },
  {
   "cell_type": "code",
   "execution_count": null,
   "metadata": {},
   "outputs": [],
   "source": [
    "doc_word.shape"
   ]
  },
  {
   "cell_type": "markdown",
   "metadata": {},
   "source": [
    "##### Convert to gensim\n",
    "We need to convert our sparse `scipy` matrix to a `gensim`-friendly object called a Corpus:"
   ]
  },
  {
   "cell_type": "code",
   "execution_count": 8,
   "metadata": {},
   "outputs": [],
   "source": [
    "# Convert sparse matrix of counts to a gensim corpus\n",
    "corpus = matutils.Sparse2Corpus(doc_word)"
   ]
  },
  {
   "cell_type": "markdown",
   "metadata": {},
   "source": [
    "##### Map matrix rows to words (tokens)\n",
    "We need to save a mapping (dict) of row id to word (token) for later use by gensim:"
   ]
  },
  {
   "cell_type": "code",
   "execution_count": 9,
   "metadata": {},
   "outputs": [],
   "source": [
    "id2word = dict((v, k) for k, v in count_vectorizer.vocabulary_.items())"
   ]
  },
  {
   "cell_type": "code",
   "execution_count": 10,
   "metadata": {},
   "outputs": [
    {
     "data": {
      "text/plain": [
       "272502"
      ]
     },
     "execution_count": 10,
     "metadata": {},
     "output_type": "execute_result"
    }
   ],
   "source": [
    "len(id2word)"
   ]
  },
  {
   "cell_type": "markdown",
   "metadata": {},
   "source": [
    "## LDA\n",
    "At this point we can simply plow ahead in creating an LDA model.  It requires our corpus of word counts, mapping of row ids to words, and the number of topics (3)."
   ]
  },
  {
   "cell_type": "code",
   "execution_count": 11,
   "metadata": {},
   "outputs": [
    {
     "name": "stderr",
     "output_type": "stream",
     "text": [
      "2020-02-18 11:36:09,061 : INFO : using symmetric alpha at 0.3333333333333333\n",
      "2020-02-18 11:36:09,062 : INFO : using symmetric eta at 0.3333333333333333\n",
      "2020-02-18 11:36:09,097 : INFO : using serial LDA version on this node\n",
      "2020-02-18 11:36:09,169 : INFO : running online (multi-pass) LDA training, 3 topics, 5 passes over the supplied corpus of 3416 documents, updating model once every 2000 documents, evaluating perplexity every 3416 documents, iterating 50x with a convergence threshold of 0.001000\n",
      "2020-02-18 11:36:09,170 : WARNING : too few updates, training might not converge; consider increasing the number of passes or iterations to improve accuracy\n",
      "2020-02-18 11:36:09,235 : INFO : PROGRESS: pass 0, at document #2000/3416\n",
      "2020-02-18 11:36:10,656 : INFO : merging changes from 2000 documents into a model of 3416 documents\n",
      "2020-02-18 11:36:10,696 : INFO : topic #0 (0.333): 0.002*\"space\" + 0.001*\"edu\" + 0.001*\"like\" + 0.001*\"know\" + 0.001*\"don\" + 0.001*\"just\" + 0.001*\"time\" + 0.001*\"people\" + 0.001*\"data\" + 0.001*\"good\"\n",
      "2020-02-18 11:36:10,700 : INFO : topic #1 (0.333): 0.002*\"people\" + 0.002*\"just\" + 0.002*\"like\" + 0.001*\"don\" + 0.001*\"know\" + 0.001*\"think\" + 0.001*\"good\" + 0.001*\"armenian\" + 0.001*\"said\" + 0.001*\"space\"\n",
      "2020-02-18 11:36:10,703 : INFO : topic #2 (0.333): 0.002*\"don\" + 0.001*\"people\" + 0.001*\"just\" + 0.001*\"time\" + 0.001*\"know\" + 0.001*\"like\" + 0.001*\"does\" + 0.001*\"space\" + 0.001*\"think\" + 0.001*\"jews\"\n",
      "2020-02-18 11:36:10,705 : INFO : topic diff=1.442331, rho=1.000000\n",
      "2020-02-18 11:36:13,082 : INFO : -13.117 per-word bound, 8885.0 perplexity estimate based on a held-out corpus of 1416 documents with 254128 words\n",
      "2020-02-18 11:36:13,084 : INFO : PROGRESS: pass 0, at document #3416/3416\n",
      "2020-02-18 11:36:14,051 : INFO : merging changes from 1416 documents into a model of 3416 documents\n",
      "2020-02-18 11:36:14,090 : INFO : topic #0 (0.333): 0.003*\"space\" + 0.002*\"image\" + 0.002*\"jpeg\" + 0.001*\"data\" + 0.001*\"like\" + 0.001*\"edu\" + 0.001*\"images\" + 0.001*\"don\" + 0.001*\"use\" + 0.001*\"gif\"\n",
      "2020-02-18 11:36:14,096 : INFO : topic #1 (0.333): 0.003*\"people\" + 0.002*\"just\" + 0.002*\"like\" + 0.002*\"armenian\" + 0.002*\"don\" + 0.002*\"said\" + 0.002*\"know\" + 0.001*\"think\" + 0.001*\"god\" + 0.001*\"armenians\"\n",
      "2020-02-18 11:36:14,099 : INFO : topic #2 (0.333): 0.002*\"don\" + 0.002*\"like\" + 0.002*\"just\" + 0.002*\"people\" + 0.002*\"think\" + 0.002*\"does\" + 0.002*\"time\" + 0.002*\"know\" + 0.001*\"israel\" + 0.001*\"year\"\n",
      "2020-02-18 11:36:14,101 : INFO : topic diff=1.216558, rho=0.707107\n",
      "2020-02-18 11:36:14,195 : INFO : PROGRESS: pass 1, at document #2000/3416\n",
      "2020-02-18 11:36:15,184 : INFO : merging changes from 2000 documents into a model of 3416 documents\n",
      "2020-02-18 11:36:15,223 : INFO : topic #0 (0.333): 0.003*\"space\" + 0.002*\"edu\" + 0.001*\"data\" + 0.001*\"image\" + 0.001*\"nasa\" + 0.001*\"graphics\" + 0.001*\"program\" + 0.001*\"available\" + 0.001*\"images\" + 0.001*\"use\"\n",
      "2020-02-18 11:36:15,229 : INFO : topic #1 (0.333): 0.003*\"people\" + 0.002*\"just\" + 0.002*\"armenian\" + 0.002*\"like\" + 0.002*\"said\" + 0.002*\"don\" + 0.002*\"know\" + 0.001*\"think\" + 0.001*\"armenians\" + 0.001*\"turkish\"\n",
      "2020-02-18 11:36:15,233 : INFO : topic #2 (0.333): 0.002*\"don\" + 0.002*\"just\" + 0.002*\"like\" + 0.002*\"time\" + 0.002*\"know\" + 0.002*\"think\" + 0.001*\"does\" + 0.001*\"people\" + 0.001*\"year\" + 0.001*\"israel\"\n",
      "2020-02-18 11:36:15,235 : INFO : topic diff=0.618690, rho=0.519314\n",
      "2020-02-18 11:36:17,428 : INFO : -11.933 per-word bound, 3909.4 perplexity estimate based on a held-out corpus of 1416 documents with 254128 words\n",
      "2020-02-18 11:36:17,429 : INFO : PROGRESS: pass 1, at document #3416/3416\n",
      "2020-02-18 11:36:18,081 : INFO : merging changes from 1416 documents into a model of 3416 documents\n",
      "2020-02-18 11:36:18,121 : INFO : topic #0 (0.333): 0.003*\"space\" + 0.002*\"image\" + 0.002*\"jpeg\" + 0.002*\"data\" + 0.001*\"edu\" + 0.001*\"nasa\" + 0.001*\"use\" + 0.001*\"program\" + 0.001*\"launch\" + 0.001*\"images\"\n",
      "2020-02-18 11:36:18,126 : INFO : topic #1 (0.333): 0.004*\"people\" + 0.002*\"armenian\" + 0.002*\"just\" + 0.002*\"said\" + 0.002*\"don\" + 0.002*\"like\" + 0.002*\"know\" + 0.001*\"armenians\" + 0.001*\"god\" + 0.001*\"think\"\n",
      "2020-02-18 11:36:18,129 : INFO : topic #2 (0.333): 0.002*\"don\" + 0.002*\"like\" + 0.002*\"just\" + 0.002*\"think\" + 0.001*\"know\" + 0.001*\"israel\" + 0.001*\"time\" + 0.001*\"does\" + 0.001*\"people\" + 0.001*\"year\"\n",
      "2020-02-18 11:36:18,131 : INFO : topic diff=0.546635, rho=0.519314\n",
      "2020-02-18 11:36:18,224 : INFO : PROGRESS: pass 2, at document #2000/3416\n",
      "2020-02-18 11:36:19,062 : INFO : merging changes from 2000 documents into a model of 3416 documents\n",
      "2020-02-18 11:36:19,101 : INFO : topic #0 (0.333): 0.003*\"space\" + 0.002*\"image\" + 0.002*\"edu\" + 0.002*\"data\" + 0.001*\"nasa\" + 0.001*\"graphics\" + 0.001*\"program\" + 0.001*\"available\" + 0.001*\"use\" + 0.001*\"images\"\n",
      "2020-02-18 11:36:19,105 : INFO : topic #1 (0.333): 0.003*\"people\" + 0.002*\"armenian\" + 0.002*\"just\" + 0.002*\"said\" + 0.002*\"don\" + 0.002*\"like\" + 0.002*\"know\" + 0.002*\"armenians\" + 0.001*\"turkish\" + 0.001*\"think\"\n",
      "2020-02-18 11:36:19,109 : INFO : topic #2 (0.333): 0.002*\"don\" + 0.002*\"just\" + 0.002*\"like\" + 0.002*\"think\" + 0.001*\"know\" + 0.001*\"time\" + 0.001*\"people\" + 0.001*\"does\" + 0.001*\"year\" + 0.001*\"israel\"\n",
      "2020-02-18 11:36:19,111 : INFO : topic diff=0.375628, rho=0.460874\n",
      "2020-02-18 11:36:21,144 : INFO : -11.635 per-word bound, 3180.3 perplexity estimate based on a held-out corpus of 1416 documents with 254128 words\n",
      "2020-02-18 11:36:21,144 : INFO : PROGRESS: pass 2, at document #3416/3416\n",
      "2020-02-18 11:36:21,678 : INFO : merging changes from 1416 documents into a model of 3416 documents\n",
      "2020-02-18 11:36:21,713 : INFO : topic #0 (0.333): 0.003*\"space\" + 0.002*\"image\" + 0.002*\"data\" + 0.001*\"jpeg\" + 0.001*\"edu\" + 0.001*\"nasa\" + 0.001*\"program\" + 0.001*\"use\" + 0.001*\"launch\" + 0.001*\"file\"\n",
      "2020-02-18 11:36:21,719 : INFO : topic #1 (0.333): 0.003*\"people\" + 0.002*\"armenian\" + 0.002*\"just\" + 0.002*\"said\" + 0.002*\"don\" + 0.002*\"like\" + 0.002*\"know\" + 0.002*\"armenians\" + 0.001*\"god\" + 0.001*\"think\"\n",
      "2020-02-18 11:36:21,721 : INFO : topic #2 (0.333): 0.002*\"don\" + 0.002*\"like\" + 0.002*\"just\" + 0.002*\"think\" + 0.001*\"israel\" + 0.001*\"know\" + 0.001*\"time\" + 0.001*\"year\" + 0.001*\"people\" + 0.001*\"good\"\n",
      "2020-02-18 11:36:21,723 : INFO : topic diff=0.326095, rho=0.460874\n",
      "2020-02-18 11:36:21,814 : INFO : PROGRESS: pass 3, at document #2000/3416\n",
      "2020-02-18 11:36:22,579 : INFO : merging changes from 2000 documents into a model of 3416 documents\n",
      "2020-02-18 11:36:22,621 : INFO : topic #0 (0.333): 0.003*\"space\" + 0.002*\"image\" + 0.002*\"edu\" + 0.002*\"data\" + 0.001*\"nasa\" + 0.001*\"graphics\" + 0.001*\"program\" + 0.001*\"available\" + 0.001*\"use\" + 0.001*\"images\"\n",
      "2020-02-18 11:36:22,627 : INFO : topic #1 (0.333): 0.003*\"people\" + 0.002*\"armenian\" + 0.002*\"just\" + 0.002*\"said\" + 0.002*\"don\" + 0.002*\"like\" + 0.002*\"armenians\" + 0.002*\"know\" + 0.001*\"turkish\" + 0.001*\"think\"\n",
      "2020-02-18 11:36:22,631 : INFO : topic #2 (0.333): 0.002*\"don\" + 0.002*\"just\" + 0.002*\"like\" + 0.002*\"think\" + 0.001*\"know\" + 0.001*\"time\" + 0.001*\"people\" + 0.001*\"year\" + 0.001*\"israel\" + 0.001*\"does\"\n",
      "2020-02-18 11:36:22,633 : INFO : topic diff=0.270477, rho=0.418560\n",
      "2020-02-18 11:36:24,535 : INFO : -11.557 per-word bound, 3013.1 perplexity estimate based on a held-out corpus of 1416 documents with 254128 words\n",
      "2020-02-18 11:36:24,536 : INFO : PROGRESS: pass 3, at document #3416/3416\n",
      "2020-02-18 11:36:25,039 : INFO : merging changes from 1416 documents into a model of 3416 documents\n",
      "2020-02-18 11:36:25,076 : INFO : topic #0 (0.333): 0.003*\"space\" + 0.002*\"image\" + 0.002*\"data\" + 0.001*\"jpeg\" + 0.001*\"edu\" + 0.001*\"nasa\" + 0.001*\"program\" + 0.001*\"use\" + 0.001*\"graphics\" + 0.001*\"launch\"\n",
      "2020-02-18 11:36:25,084 : INFO : topic #1 (0.333): 0.003*\"people\" + 0.002*\"armenian\" + 0.002*\"just\" + 0.002*\"said\" + 0.002*\"don\" + 0.002*\"like\" + 0.002*\"armenians\" + 0.002*\"know\" + 0.001*\"god\" + 0.001*\"turkish\"\n",
      "2020-02-18 11:36:25,088 : INFO : topic #2 (0.333): 0.002*\"don\" + 0.002*\"like\" + 0.002*\"just\" + 0.002*\"think\" + 0.001*\"israel\" + 0.001*\"know\" + 0.001*\"year\" + 0.001*\"time\" + 0.001*\"people\" + 0.001*\"good\"\n",
      "2020-02-18 11:36:25,090 : INFO : topic diff=0.248233, rho=0.418560\n",
      "2020-02-18 11:36:25,183 : INFO : PROGRESS: pass 4, at document #2000/3416\n"
     ]
    },
    {
     "name": "stderr",
     "output_type": "stream",
     "text": [
      "2020-02-18 11:36:25,915 : INFO : merging changes from 2000 documents into a model of 3416 documents\n",
      "2020-02-18 11:36:25,957 : INFO : topic #0 (0.333): 0.003*\"space\" + 0.002*\"image\" + 0.002*\"edu\" + 0.002*\"data\" + 0.001*\"nasa\" + 0.001*\"graphics\" + 0.001*\"program\" + 0.001*\"available\" + 0.001*\"use\" + 0.001*\"images\"\n",
      "2020-02-18 11:36:25,962 : INFO : topic #1 (0.333): 0.003*\"people\" + 0.002*\"armenian\" + 0.002*\"just\" + 0.002*\"said\" + 0.002*\"don\" + 0.002*\"armenians\" + 0.002*\"like\" + 0.002*\"know\" + 0.002*\"turkish\" + 0.001*\"think\"\n",
      "2020-02-18 11:36:25,965 : INFO : topic #2 (0.333): 0.002*\"don\" + 0.002*\"just\" + 0.002*\"like\" + 0.002*\"think\" + 0.001*\"know\" + 0.001*\"time\" + 0.001*\"people\" + 0.001*\"year\" + 0.001*\"israel\" + 0.001*\"good\"\n",
      "2020-02-18 11:36:25,967 : INFO : topic diff=0.225139, rho=0.386103\n",
      "2020-02-18 11:36:27,862 : INFO : -11.526 per-word bound, 2948.2 perplexity estimate based on a held-out corpus of 1416 documents with 254128 words\n",
      "2020-02-18 11:36:27,863 : INFO : PROGRESS: pass 4, at document #3416/3416\n",
      "2020-02-18 11:36:28,349 : INFO : merging changes from 1416 documents into a model of 3416 documents\n",
      "2020-02-18 11:36:28,387 : INFO : topic #0 (0.333): 0.003*\"space\" + 0.002*\"image\" + 0.002*\"data\" + 0.001*\"jpeg\" + 0.001*\"edu\" + 0.001*\"nasa\" + 0.001*\"graphics\" + 0.001*\"program\" + 0.001*\"use\" + 0.001*\"launch\"\n",
      "2020-02-18 11:36:28,393 : INFO : topic #1 (0.333): 0.003*\"people\" + 0.002*\"armenian\" + 0.002*\"just\" + 0.002*\"said\" + 0.002*\"don\" + 0.002*\"like\" + 0.002*\"armenians\" + 0.002*\"know\" + 0.001*\"god\" + 0.001*\"turkish\"\n",
      "2020-02-18 11:36:28,397 : INFO : topic #2 (0.333): 0.002*\"don\" + 0.002*\"like\" + 0.002*\"just\" + 0.002*\"think\" + 0.001*\"israel\" + 0.001*\"know\" + 0.001*\"year\" + 0.001*\"time\" + 0.001*\"people\" + 0.001*\"good\"\n",
      "2020-02-18 11:36:28,399 : INFO : topic diff=0.213178, rho=0.386103\n"
     ]
    }
   ],
   "source": [
    "# Create lda model (equivalent to \"fit\" in sklearn)\n",
    "lda = models.LdaModel(corpus=corpus, num_topics=3, id2word=id2word, passes=5, max)"
   ]
  },
  {
   "cell_type": "markdown",
   "metadata": {},
   "source": [
    "Let's take a look at what happened.  Here are the 5 most important words for each of the 3 topics we found:"
   ]
  },
  {
   "cell_type": "code",
   "execution_count": 12,
   "metadata": {},
   "outputs": [
    {
     "name": "stderr",
     "output_type": "stream",
     "text": [
      "2020-02-18 11:36:49,538 : INFO : topic #0 (0.333): 0.003*\"space\" + 0.002*\"image\" + 0.002*\"data\" + 0.001*\"jpeg\" + 0.001*\"edu\" + 0.001*\"nasa\" + 0.001*\"graphics\" + 0.001*\"program\" + 0.001*\"use\" + 0.001*\"launch\"\n",
      "2020-02-18 11:36:49,545 : INFO : topic #1 (0.333): 0.003*\"people\" + 0.002*\"armenian\" + 0.002*\"just\" + 0.002*\"said\" + 0.002*\"don\" + 0.002*\"like\" + 0.002*\"armenians\" + 0.002*\"know\" + 0.001*\"god\" + 0.001*\"turkish\"\n",
      "2020-02-18 11:36:49,547 : INFO : topic #2 (0.333): 0.002*\"don\" + 0.002*\"like\" + 0.002*\"just\" + 0.002*\"think\" + 0.001*\"israel\" + 0.001*\"know\" + 0.001*\"year\" + 0.001*\"time\" + 0.001*\"people\" + 0.001*\"good\"\n"
     ]
    },
    {
     "data": {
      "text/plain": [
       "[(0,\n",
       "  '0.003*\"space\" + 0.002*\"image\" + 0.002*\"data\" + 0.001*\"jpeg\" + 0.001*\"edu\" + 0.001*\"nasa\" + 0.001*\"graphics\" + 0.001*\"program\" + 0.001*\"use\" + 0.001*\"launch\"'),\n",
       " (1,\n",
       "  '0.003*\"people\" + 0.002*\"armenian\" + 0.002*\"just\" + 0.002*\"said\" + 0.002*\"don\" + 0.002*\"like\" + 0.002*\"armenians\" + 0.002*\"know\" + 0.001*\"god\" + 0.001*\"turkish\"'),\n",
       " (2,\n",
       "  '0.002*\"don\" + 0.002*\"like\" + 0.002*\"just\" + 0.002*\"think\" + 0.001*\"israel\" + 0.001*\"know\" + 0.001*\"year\" + 0.001*\"time\" + 0.001*\"people\" + 0.001*\"good\"')]"
      ]
     },
     "execution_count": 12,
     "metadata": {},
     "output_type": "execute_result"
    }
   ],
   "source": [
    "lda.print_topics()"
   ]
  },
  {
   "cell_type": "markdown",
   "metadata": {},
   "source": [
    "#### Topic Space\n",
    "If we want to map our documents to the topic space we need to actually use the LdaModel transformer that we created above, like so:"
   ]
  },
  {
   "cell_type": "code",
   "execution_count": 13,
   "metadata": {},
   "outputs": [
    {
     "data": {
      "text/plain": [
       "<gensim.interfaces.TransformedCorpus at 0x120eeef90>"
      ]
     },
     "execution_count": 13,
     "metadata": {},
     "output_type": "execute_result"
    }
   ],
   "source": [
    "# Transform the docs from the word space to the topic space (like \"transform\" in sklearn)\n",
    "lda_corpus = lda[corpus]\n",
    "lda_corpus"
   ]
  },
  {
   "cell_type": "code",
   "execution_count": 14,
   "metadata": {},
   "outputs": [],
   "source": [
    "# Store the documents' topic vectors in a list so we can take a peak\n",
    "lda_docs = [doc for doc in lda_corpus]"
   ]
  },
  {
   "cell_type": "markdown",
   "metadata": {},
   "source": [
    "Now we can take a look at the document vectors in the topic space, which are measures of the component of each document along each topic.  Thus, at most a document vector can have num_topics=3 nonzero components in the topic space, and most have far fewer."
   ]
  },
  {
   "cell_type": "code",
   "execution_count": 15,
   "metadata": {},
   "outputs": [
    {
     "data": {
      "text/plain": [
       "[[(2, 0.99124604)],\n",
       " [(0, 0.17507686), (1, 0.8142799), (2, 0.010643232)],\n",
       " [(0, 0.24620718), (1, 0.7431388), (2, 0.010654014)],\n",
       " [(1, 0.29530358), (2, 0.69828)],\n",
       " [(2, 0.99296266)]]"
      ]
     },
     "execution_count": 15,
     "metadata": {},
     "output_type": "execute_result"
    }
   ],
   "source": [
    "# Check out the document vectors in the topic space for the first 5 documents\n",
    "lda_docs[0:5]"
   ]
  },
  {
   "cell_type": "code",
   "execution_count": 16,
   "metadata": {},
   "outputs": [
    {
     "data": {
      "text/plain": [
       "'Well, the Red Sox have apparenly resigned Herm Winningham to a AAA contract.\\nTed \"Larry\" Simmons signed him to a AAA contract then released him from\\nBuffalo, allowing Lou \"Curly\" Gorman to circumvent the rule about not\\nresigning free agents until May 1. Clearly, neither of these guys is bright\\nenough to be Moe.\\n\\n Mike Jones | AIX High-End Development | mjones@donald.aix.kingston.ibm.com'"
      ]
     },
     "execution_count": 16,
     "metadata": {},
     "output_type": "execute_result"
    }
   ],
   "source": [
    "ng_train.data[0]"
   ]
  },
  {
   "cell_type": "markdown",
   "metadata": {},
   "source": [
    "## On your own...\n",
    "- Pick a few subsets of the 20newsgroups dataset  \n",
    "- Try performing LDA on this data with gensim\n",
    "- Play with some of the preprocessing options and parameters for LDA, observe what happens\n",
    "- See if you can use the resulting topic space to extract topic vectors\n",
    "- How do your results look?\n",
    "- Can you think of how you could cluster this data?"
   ]
  },
  {
   "cell_type": "code",
   "execution_count": null,
   "metadata": {},
   "outputs": [],
   "source": []
  }
 ],
 "metadata": {
  "kernelspec": {
   "display_name": "Python 3",
   "language": "python",
   "name": "python3"
  },
  "language_info": {
   "codemirror_mode": {
    "name": "ipython",
    "version": 3
   },
   "file_extension": ".py",
   "mimetype": "text/x-python",
   "name": "python",
   "nbconvert_exporter": "python",
   "pygments_lexer": "ipython3",
   "version": "3.7.4"
  },
  "toc": {
   "base_numbering": 1,
   "nav_menu": {},
   "number_sections": true,
   "sideBar": true,
   "skip_h1_title": false,
   "title_cell": "Table of Contents",
   "title_sidebar": "Contents",
   "toc_cell": false,
   "toc_position": {},
   "toc_section_display": true,
   "toc_window_display": false
  }
 },
 "nbformat": 4,
 "nbformat_minor": 1
}
