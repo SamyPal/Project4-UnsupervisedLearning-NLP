{
 "cells": [
  {
   "cell_type": "code",
   "execution_count": 4,
   "metadata": {},
   "outputs": [],
   "source": [
    "from stocknews import StockNews\n",
    "import pandas as pd"
   ]
  },
  {
   "cell_type": "code",
   "execution_count": 7,
   "metadata": {},
   "outputs": [
    {
     "data": {
      "text/plain": [
       "(                id stock              news_dt   check_day  open  close  high  \\\n",
       " 0  AAPL_2020-02-20  AAPL  2020-02-20 18:43:00  2020-02-20     0      0     0   \n",
       " 1  MSFT_2020-02-20  MSFT  2020-02-20 19:19:54  2020-02-20     0      0     0   \n",
       " 2  NFLX_2020-02-20  NFLX  2020-02-20 16:32:14  2020-02-20     0      0     0   \n",
       " 3  NFLX_2020-02-19  NFLX  2020-02-19 22:20:23  2020-02-20     0      0     0   \n",
       " 4  NFLX_2020-02-18  NFLX  2020-02-18 22:24:10  2020-02-19     0      0     0   \n",
       " \n",
       "    low  volume     change  sentiment_summary_avg  sentiment_summary_med  \\\n",
       " 0    0       0  UNCHECKED               0.033490                 0.0000   \n",
       " 1    0       0  UNCHECKED               0.265379                 0.5103   \n",
       " 2    0       0  UNCHECKED               0.321378                 0.2732   \n",
       " 3    0       0  UNCHECKED              -0.089180                -0.0258   \n",
       " 4    0       0  UNCHECKED               0.240033                 0.3182   \n",
       " \n",
       "    sentiment_title_avg  sentiment_title_med  \n",
       " 0             0.054360                  0.0  \n",
       " 1             0.077214                  0.0  \n",
       " 2            -0.030833                  0.0  \n",
       " 3             0.088080                  0.0  \n",
       " 4             0.127267                  0.0  , 1)"
      ]
     },
     "execution_count": 7,
     "metadata": {},
     "output_type": "execute_result"
    }
   ],
   "source": [
    "stocks = ['AAPL', 'MSFT', 'NFLX']\n",
    "sn = StockNews(stocks, wt_key='MY_WORLD_TRADING_DATA_KEY')\n",
    "df = sn.summarize()\n",
    "df"
   ]
  },
  {
   "cell_type": "code",
   "execution_count": null,
   "metadata": {},
   "outputs": [],
   "source": []
  }
 ],
 "metadata": {
  "kernelspec": {
   "display_name": "Python 3",
   "language": "python",
   "name": "python3"
  },
  "language_info": {
   "codemirror_mode": {
    "name": "ipython",
    "version": 3
   },
   "file_extension": ".py",
   "mimetype": "text/x-python",
   "name": "python",
   "nbconvert_exporter": "python",
   "pygments_lexer": "ipython3",
   "version": "3.7.4"
  },
  "toc": {
   "base_numbering": 1,
   "nav_menu": {},
   "number_sections": true,
   "sideBar": true,
   "skip_h1_title": false,
   "title_cell": "Table of Contents",
   "title_sidebar": "Contents",
   "toc_cell": false,
   "toc_position": {},
   "toc_section_display": true,
   "toc_window_display": false
  }
 },
 "nbformat": 4,
 "nbformat_minor": 4
}
